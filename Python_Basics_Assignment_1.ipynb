{
  "nbformat": 4,
  "nbformat_minor": 0,
  "metadata": {
    "colab": {
      "provenance": [],
      "collapsed_sections": [
        "35VQNbvoHM_7",
        "RROFjaFpIKdM",
        "J9h4eFxWJUEn",
        "4c1tfw1ZJpxH",
        "_QEoHP1bLQ3D",
        "mfKaeuPsLlQ3",
        "ieAp6hlgzZyp",
        "BnWDyZoOztRH",
        "JsDG_0mez69E"
      ]
    },
    "kernelspec": {
      "name": "python3",
      "display_name": "Python 3"
    },
    "language_info": {
      "name": "python"
    }
  },
  "cells": [
    {
      "cell_type": "markdown",
      "source": [
        "# 1. In the below elements which of them are values or an expression? eg:- values can be integer or string and expressions will be mathematical operators.\n",
        "\n",
        "## * (expression)\n",
        "## 'hello' (Values)\n",
        "## -87.8 (Values)\n",
        "## - (expression)\n",
        "## / (expression)\n",
        "## +\t(expression)\n",
        "## 6 (Values)\n"
      ],
      "metadata": {
        "id": "35VQNbvoHM_7"
      }
    },
    {
      "cell_type": "markdown",
      "source": [
        "#2. What is the difference between string and variable?\n",
        "\n",
        "##Ans. Strings are alphabets or characters, String is a type of data which is assigned in variable. Variable stores the data/information assigned to it. "
      ],
      "metadata": {
        "id": "RROFjaFpIKdM"
      }
    },
    {
      "cell_type": "markdown",
      "source": [
        "#3. Describe three different data types.\n",
        "##Ans. Integer (int), Decimals (float) and String (str)"
      ],
      "metadata": {
        "id": "J9h4eFxWJUEn"
      }
    },
    {
      "cell_type": "markdown",
      "source": [
        "#4. What is an expression made up of? What do all expressions do?\n",
        "## Expressions are made up of mathematical operators and variables/values to get the desired result."
      ],
      "metadata": {
        "id": "4c1tfw1ZJpxH"
      }
    },
    {
      "cell_type": "markdown",
      "source": [
        "#5. This assignment statements, like spam = 10. What is the difference between an expression and a statement?\n",
        "## Ans.  Running a statement like spam = 10 assign a value of 10 to variable spam. An expression is used to get some result for a vairable. A statement shows how the variable is assigned. "
      ],
      "metadata": {
        "id": "_QEoHP1bLQ3D"
      }
    },
    {
      "cell_type": "markdown",
      "source": [
        "#6. After running the following code, what does the variable bacon contain?\n",
        "#bacon = 22\n",
        "#bacon + 1\n",
        "\n",
        "##Ans. 23"
      ],
      "metadata": {
        "id": "mfKaeuPsLlQ3"
      }
    },
    {
      "cell_type": "code",
      "source": [
        "bacon = 22\n",
        "bacon + 1"
      ],
      "metadata": {
        "colab": {
          "base_uri": "https://localhost:8080/"
        },
        "id": "pxQUa9YHzK6C",
        "outputId": "73b0e0ca-e846-4807-bc34-40e40041f963"
      },
      "execution_count": 1,
      "outputs": [
        {
          "output_type": "execute_result",
          "data": {
            "text/plain": [
              "23"
            ]
          },
          "metadata": {},
          "execution_count": 1
        }
      ]
    },
    {
      "cell_type": "markdown",
      "source": [
        "#7. What should the values of the following two terms be?\n",
        "#'spam' + 'spamspam'\n",
        "#'spam' * 3\n",
        "\n",
        "##Ans. 'spamspamspam'"
      ],
      "metadata": {
        "id": "ieAp6hlgzZyp"
      }
    },
    {
      "cell_type": "code",
      "source": [
        "'spam' + 'spamspam'"
      ],
      "metadata": {
        "colab": {
          "base_uri": "https://localhost:8080/",
          "height": 36
        },
        "id": "vPenRc5ozeiJ",
        "outputId": "7b6e0ac6-407d-4109-9303-024c277cdebd"
      },
      "execution_count": 3,
      "outputs": [
        {
          "output_type": "execute_result",
          "data": {
            "text/plain": [
              "'spamspamspam'"
            ],
            "application/vnd.google.colaboratory.intrinsic+json": {
              "type": "string"
            }
          },
          "metadata": {},
          "execution_count": 3
        }
      ]
    },
    {
      "cell_type": "code",
      "source": [
        "'spam'*3"
      ],
      "metadata": {
        "colab": {
          "base_uri": "https://localhost:8080/",
          "height": 36
        },
        "id": "QMCFTVVnznKh",
        "outputId": "1a9277a1-2359-441a-c97c-42ddcb408ed2"
      },
      "execution_count": 4,
      "outputs": [
        {
          "output_type": "execute_result",
          "data": {
            "text/plain": [
              "'spamspamspam'"
            ],
            "application/vnd.google.colaboratory.intrinsic+json": {
              "type": "string"
            }
          },
          "metadata": {},
          "execution_count": 4
        }
      ]
    },
    {
      "cell_type": "markdown",
      "source": [
        "#8. Why is eggs a valid variable name while 100 is invalid?\n",
        "\n",
        "##Ans. variable cannot start with number and eggs starts with aphabets"
      ],
      "metadata": {
        "id": "BnWDyZoOztRH"
      }
    },
    {
      "cell_type": "markdown",
      "source": [
        "#9. What three functions can be used to get the integer, floating-point number, or string version of a value?\n",
        "\n",
        "##Ans. int(), float(), str()"
      ],
      "metadata": {
        "id": "JsDG_0mez69E"
      }
    },
    {
      "cell_type": "markdown",
      "source": [
        "#10. Why does this expression cause an error? How can you fix it?\n",
        "#'I have eaten ' + 99 + ' burritos.'\n",
        "\n",
        "##Ans. python can concatenate only string to string. we can fix this by converting 99 into a string as shown below.\n"
      ],
      "metadata": {
        "id": "u5f9xBGO0McV"
      }
    },
    {
      "cell_type": "code",
      "source": [
        "'I have eaten ' + '99' + ' burritos.'\n"
      ],
      "metadata": {
        "colab": {
          "base_uri": "https://localhost:8080/",
          "height": 36
        },
        "id": "m6ugXwVC0Qgf",
        "outputId": "41667a75-823c-4d82-c2bc-2d79eec89a63"
      },
      "execution_count": 6,
      "outputs": [
        {
          "output_type": "execute_result",
          "data": {
            "text/plain": [
              "'I have eaten 99 burritos.'"
            ],
            "application/vnd.google.colaboratory.intrinsic+json": {
              "type": "string"
            }
          },
          "metadata": {},
          "execution_count": 6
        }
      ]
    }
  ]
}