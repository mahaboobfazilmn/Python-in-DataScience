{
  "nbformat": 4,
  "nbformat_minor": 0,
  "metadata": {
    "colab": {
      "provenance": []
    },
    "kernelspec": {
      "name": "python3",
      "display_name": "Python 3"
    },
    "language_info": {
      "name": "python"
    }
  },
  "cells": [
    {
      "cell_type": "markdown",
      "source": [
        "#1. What are the two values of the Boolean data type? How do you write them?\n",
        "##Ans. Two values of Boolean data types are True and False. We can write it starting with capital letter i.e, True and False"
      ],
      "metadata": {
        "id": "glFbOj12m_K9"
      }
    },
    {
      "cell_type": "code",
      "source": [
        "True"
      ],
      "metadata": {
        "colab": {
          "base_uri": "https://localhost:8080/"
        },
        "id": "AFHxEM2LxSbN",
        "outputId": "7b3ebb74-29dd-4b67-aac0-279ef562efd3"
      },
      "execution_count": 9,
      "outputs": [
        {
          "output_type": "execute_result",
          "data": {
            "text/plain": [
              "True"
            ]
          },
          "metadata": {},
          "execution_count": 9
        }
      ]
    },
    {
      "cell_type": "code",
      "source": [
        "a = True\n",
        "b = False\n",
        "print(a)\n",
        "print(b)"
      ],
      "metadata": {
        "colab": {
          "base_uri": "https://localhost:8080/"
        },
        "id": "ojKkZMjtxSab",
        "outputId": "daa5e6b4-d36e-4208-f04d-ca5d7ea32ad7"
      },
      "execution_count": 10,
      "outputs": [
        {
          "output_type": "stream",
          "name": "stdout",
          "text": [
            "True\n",
            "False\n"
          ]
        }
      ]
    },
    {
      "cell_type": "markdown",
      "source": [
        "#2. What are the three different types of Boolean operators?\n",
        "##Ans. AND, OR and NOT are the three different types of Boolean operators.\n"
      ],
      "metadata": {
        "id": "_Gwv7x7GnEfO"
      }
    },
    {
      "cell_type": "markdown",
      "source": [
        "#3. Make a list of each Boolean operator's truth tables (i.e. every possible combination of Boolean values for the operator and what it evaluate ).\n",
        "\n",
        "##Ans.\n",
        "\n",
        "AND \n",
        "\n",
        "False | False | False\n",
        "\n",
        "False | True | False\n",
        "\n",
        "True | False | False\n",
        "\n",
        "True | True | True\n",
        "\n",
        "OR\n",
        "\n",
        "False | False | False\n",
        "\n",
        "False | True | True\n",
        "\n",
        "True | False | True\n",
        "\n",
        "True | True | True\n",
        "\n",
        "NOT\n",
        "\n",
        "not True | False\n",
        "\n",
        "not False | True"
      ],
      "metadata": {
        "id": "lXbJJje7m_J3"
      }
    },
    {
      "cell_type": "markdown",
      "source": [
        "#4. What are the values of the following expressions?\n",
        "\n",
        "(5 > 4) and (3 == 5)\n",
        "not (5 > 4)\n",
        "(5 > 4) or (3 == 5)\n",
        "not ((5 > 4) or (3 == 5))\n",
        "(True and True) and (True == False)\n",
        "(not False) or (not True)\n",
        "\n"
      ],
      "metadata": {
        "id": "NXlzHEVmnQ2F"
      }
    },
    {
      "cell_type": "code",
      "source": [
        "print((5 > 4) and (3 == 5))\n",
        "print(not (5 > 4))\n",
        "print((5 > 4) or (3 == 5))\n",
        "print(not ((5 > 4) or (3 == 5)))\n",
        "print((True and True) and (True == False))\n",
        "print((not False) or (not True))"
      ],
      "metadata": {
        "colab": {
          "base_uri": "https://localhost:8080/"
        },
        "id": "1gr0YtABxLP3",
        "outputId": "6ce8197e-c9c9-48bf-88dd-d46ee7cbea09"
      },
      "execution_count": 11,
      "outputs": [
        {
          "output_type": "stream",
          "name": "stdout",
          "text": [
            "False\n",
            "False\n",
            "True\n",
            "False\n",
            "False\n",
            "True\n"
          ]
        }
      ]
    },
    {
      "cell_type": "markdown",
      "source": [
        "#5. What are the six comparison operators?\n",
        "##Ans. \t\n",
        "##<  (less than)\n",
        "##> (greater than) \n",
        "##<= (less than or equal to) \n",
        "##>= (greater than or equal to) \n",
        "##== (equal to), !=(not equal to)\n"
      ],
      "metadata": {
        "id": "8EfYkRgEyJxb"
      }
    },
    {
      "cell_type": "markdown",
      "source": [
        "#6. How do you tell the difference between the equal to and assignment operators? Describe a condition and when you would use one.\n",
        "\n",
        "##Ans. Equal to ( == ) compares two value and evaluate for Boolean condition, whereas assignment operator ( = ) is used to store value for a variable.\n"
      ],
      "metadata": {
        "id": "LwCxKHdByUkS"
      }
    },
    {
      "cell_type": "markdown",
      "source": [
        "#7. Identify the three blocks in this code:\n",
        "spam = 0\n",
        "if spam == 10:\n",
        "print('eggs')\n",
        "if spam > 5:\n",
        "print('bacon')\n",
        "else:\n",
        "print('ham')\n",
        "print('spam')\n",
        "print('spam')\n"
      ],
      "metadata": {
        "id": "7pm2lEXWymq6"
      }
    },
    {
      "cell_type": "code",
      "source": [
        "spam = 0\n",
        "if spam == 10:\n",
        " print('eggs')\n",
        "if spam > 5:\n",
        " print('bacon')\n",
        "else:\n",
        " print('ham')\n",
        " print('spam')\n",
        " print('spam')"
      ],
      "metadata": {
        "colab": {
          "base_uri": "https://localhost:8080/"
        },
        "id": "E4snWOT9yuXs",
        "outputId": "c31e8273-5877-480d-d046-609980b1807a"
      },
      "execution_count": 15,
      "outputs": [
        {
          "output_type": "stream",
          "name": "stdout",
          "text": [
            "ham\n",
            "spam\n",
            "spam\n"
          ]
        }
      ]
    },
    {
      "cell_type": "markdown",
      "source": [
        "#8. Write code that prints Hello if 1 is stored in spam, prints Howdy if 2 is stored in spam, and prints Greetings! if anything else is stored in spam."
      ],
      "metadata": {
        "id": "5oIjZ9Zmy6u7"
      }
    },
    {
      "cell_type": "code",
      "source": [
        "spam = int(input(\"Input a no.\"))\n",
        "if spam == 1:\n",
        "  print(\"Hello\")\n",
        "elif spam == 2:\n",
        "  print(\"Howdy\")\n",
        "else:\n",
        "  print(\"Greetings!\")"
      ],
      "metadata": {
        "colab": {
          "base_uri": "https://localhost:8080/"
        },
        "id": "NLeL9-sDy9QQ",
        "outputId": "3336cf6d-70ab-452e-e4c7-886c2b759e34"
      },
      "execution_count": 19,
      "outputs": [
        {
          "output_type": "stream",
          "name": "stdout",
          "text": [
            "Input a no.3\n",
            "Greetings!\n"
          ]
        }
      ]
    },
    {
      "cell_type": "markdown",
      "source": [
        "#9. If your programme is stuck in an endless loop, what keys you’ll press?\n",
        "##Ans. Ctrl + C"
      ],
      "metadata": {
        "id": "s-WjOA5FzuC4"
      }
    },
    {
      "cell_type": "markdown",
      "source": [
        "#10. How can you tell the difference between break and continue?\n",
        "\n",
        "##Ans. Break will stop the loop if given condition is not met. Continue will skip the loop if condition is not met and will continue checking next conditions."
      ],
      "metadata": {
        "id": "JkiuTQ2C5Lgn"
      }
    },
    {
      "cell_type": "code",
      "source": [
        "#Break\n",
        "\n",
        "for i in range(0, 10):\n",
        "  if(i==5):\n",
        "    break\n",
        "  print(i)\n",
        "print(\"Break\")"
      ],
      "metadata": {
        "colab": {
          "base_uri": "https://localhost:8080/"
        },
        "id": "tP9ViBzo513e",
        "outputId": "f950d5f7-81b0-4a3a-8b59-eb2854ee01cf"
      },
      "execution_count": 25,
      "outputs": [
        {
          "output_type": "stream",
          "name": "stdout",
          "text": [
            "0\n",
            "1\n",
            "2\n",
            "3\n",
            "4\n",
            "Break\n"
          ]
        }
      ]
    },
    {
      "cell_type": "code",
      "source": [
        "#Continue\n",
        "\n",
        "for i in range(0,10):\n",
        "  if(i==5):\n",
        "    continue\n",
        "  print(i)"
      ],
      "metadata": {
        "colab": {
          "base_uri": "https://localhost:8080/"
        },
        "id": "NE3mXak96ICa",
        "outputId": "b657db78-0415-4b86-e3bd-2c3a40812789"
      },
      "execution_count": 29,
      "outputs": [
        {
          "output_type": "stream",
          "name": "stdout",
          "text": [
            "0\n",
            "1\n",
            "2\n",
            "3\n",
            "4\n",
            "6\n",
            "7\n",
            "8\n",
            "9\n"
          ]
        }
      ]
    },
    {
      "cell_type": "markdown",
      "source": [
        "#11. In a for loop, what is the difference between range(10), range(0, 10), and range(0, 10, 1)?\n",
        "\n",
        "##Ans. With reference to below code we can say, range(10) tells the loop to call all varialbes before 10, range(0, 10) tells the loop to start varialbe from 0 ends before 10, range(0, 10, 1) tells variable to start from 0 ends before 10 but in between it increases/add the variable by 1 to previous one."
      ],
      "metadata": {
        "id": "Y_43IIkR6dw1"
      }
    },
    {
      "cell_type": "code",
      "source": [
        "for i in range(10):\n",
        "  print(i)\n",
        "\n",
        "print(\"------\"*10)\n",
        "\n",
        "for i in range(1, 10):\n",
        "  print(i)\n",
        "\n",
        "print(\"------\"*10)\n",
        "\n",
        "for i in range(1, 10, 2):\n",
        "  print(i)"
      ],
      "metadata": {
        "colab": {
          "base_uri": "https://localhost:8080/"
        },
        "id": "KSZ4REn-6kPa",
        "outputId": "fc229c46-ffc4-44a5-fe2d-7d47d35c520f"
      },
      "execution_count": 39,
      "outputs": [
        {
          "output_type": "stream",
          "name": "stdout",
          "text": [
            "0\n",
            "1\n",
            "2\n",
            "3\n",
            "4\n",
            "5\n",
            "6\n",
            "7\n",
            "8\n",
            "9\n",
            "------------------------------------------------------------\n",
            "1\n",
            "2\n",
            "3\n",
            "4\n",
            "5\n",
            "6\n",
            "7\n",
            "8\n",
            "9\n",
            "------------------------------------------------------------\n",
            "1\n",
            "3\n",
            "5\n",
            "7\n",
            "9\n"
          ]
        }
      ]
    },
    {
      "cell_type": "markdown",
      "source": [
        "#12. Write a short program that prints the numbers 1 to 10 using a for loop. Then write an equivalent program that prints the numbers 1 to 10 using a while loop."
      ],
      "metadata": {
        "id": "4I3tx1OJ8jwo"
      }
    },
    {
      "cell_type": "code",
      "source": [
        "for i in range(1, 11):\n",
        "  print(i)"
      ],
      "metadata": {
        "colab": {
          "base_uri": "https://localhost:8080/"
        },
        "id": "n33SWc_v8sZD",
        "outputId": "50efedf7-5454-4ada-fafc-ddf576faf377"
      },
      "execution_count": 42,
      "outputs": [
        {
          "output_type": "stream",
          "name": "stdout",
          "text": [
            "1\n",
            "2\n",
            "3\n",
            "4\n",
            "5\n",
            "6\n",
            "7\n",
            "8\n",
            "9\n",
            "10\n"
          ]
        }
      ]
    },
    {
      "cell_type": "code",
      "source": [
        "a = 10\n",
        "i = 1\n",
        "while i <= a:\n",
        "  print(f\"{i}\")\n",
        "  i=i+1\n"
      ],
      "metadata": {
        "colab": {
          "base_uri": "https://localhost:8080/"
        },
        "id": "4x4vR9xn88IA",
        "outputId": "9137291a-76da-4766-eec6-87e1b51f91ac"
      },
      "execution_count": 51,
      "outputs": [
        {
          "output_type": "stream",
          "name": "stdout",
          "text": [
            "1\n",
            "2\n",
            "3\n",
            "4\n",
            "5\n",
            "6\n",
            "7\n",
            "8\n",
            "9\n",
            "10\n"
          ]
        }
      ]
    },
    {
      "cell_type": "markdown",
      "source": [
        "#13. If you had a function named bacon() inside a module named spam, how would you call it after importing spam?\n",
        "\n",
        "##Ans. spam.bacon()"
      ],
      "metadata": {
        "id": "lBZgyBME9wiI"
      }
    }
  ]
}